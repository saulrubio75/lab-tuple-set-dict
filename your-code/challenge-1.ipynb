{
  "cells": [
    {
      "cell_type": "markdown",
      "metadata": {
        "id": "mhf-qk0542Mo"
      },
      "source": [
        "## Challenge 1: Tuples\n",
        "\n",
        "#### Do you know you can create tuples with only one element?\n",
        "\n",
        "**In the cell below, define a variable `tup` with a single element `\"I\"`.**\n",
        "\n",
        "*Hint: you need to add a comma (`,`) after the single element.*"
      ]
    },
    {
      "cell_type": "code",
      "execution_count": 17,
      "metadata": {
        "id": "XTz-mDjn42Mp"
      },
      "outputs": [],
      "source": [
        "# Your code here\n",
        "tup = ('I', )"
      ]
    },
    {
      "cell_type": "markdown",
      "metadata": {
        "id": "7HzWdnjU42Mq"
      },
      "source": [
        "#### Print the type of `tup`. \n",
        "\n",
        "Make sure its type is correct (i.e. *tuple* instead of *str*)."
      ]
    },
    {
      "cell_type": "code",
      "execution_count": 18,
      "metadata": {
        "id": "WK7NjP5o42Mq",
        "outputId": "aef94f9a-9091-4820-b718-a93ebcb334aa",
        "colab": {
          "base_uri": "https://localhost:8080/"
        }
      },
      "outputs": [
        {
          "output_type": "execute_result",
          "data": {
            "text/plain": [
              "tuple"
            ]
          },
          "metadata": {},
          "execution_count": 18
        }
      ],
      "source": [
        "# Your code here\n",
        "type(tup)"
      ]
    },
    {
      "cell_type": "markdown",
      "metadata": {
        "id": "hs05p-L342Mq"
      },
      "source": [
        "#### Now try to append the following elements to `tup`. \n",
        "\n",
        "Are you able to do it? Explain.\n",
        "\n",
        "```\n",
        "\"r\", \"o\", \"n\", \"h\", \"a\", \"c\", \"k',\n",
        "```"
      ]
    },
    {
      "cell_type": "markdown",
      "source": [],
      "metadata": {
        "id": "MnuGwJS5qV5p"
      }
    },
    {
      "cell_type": "code",
      "execution_count": 20,
      "metadata": {
        "id": "DtOxfA2g42Mq",
        "outputId": "62ca392d-4801-408b-ccc6-1f8e8d68da08",
        "colab": {
          "base_uri": "https://localhost:8080/"
        }
      },
      "outputs": [
        {
          "output_type": "stream",
          "name": "stdout",
          "text": [
            "('I',)\n",
            "('I', 'r', 'o', 'n', 'h', 'a', 'c', 'k')\n"
          ]
        }
      ],
      "source": [
        "# Your code here \n",
        "\n",
        "print(tup) \n",
        "tup = list(tup)  \n",
        "list_tup = [\"r\", \"o\", \"n\", \"h\", \"a\", \"c\", \"k\",]\n",
        "listapp = tuple(tup + list_tup ) \n",
        "print(listapp)\n",
        "\n",
        "# Your explanation here \n",
        "# the tupple can't be modified so we have to change the tuple into a list \n"
      ]
    },
    {
      "cell_type": "markdown",
      "metadata": {
        "id": "-JanwGii42Mr"
      },
      "source": [
        "#### How about re-assign a new value to an existing tuple?\n",
        "\n",
        "Re-assign the following elements to `tup`. Are you able to do it? Explain.\n",
        "\n",
        "```\n",
        "\"I\", \"r\", \"o\", \"n\", \"h\", \"a\", \"c\", \"k\"\n",
        "```"
      ]
    },
    {
      "cell_type": "code",
      "execution_count": 22,
      "metadata": {
        "id": "sgNW23s242Mr",
        "outputId": "c6357bea-131f-4e7b-cc6a-2c33b24f0ddd",
        "colab": {
          "base_uri": "https://localhost:8080/"
        }
      },
      "outputs": [
        {
          "output_type": "stream",
          "name": "stdout",
          "text": [
            "('I', 'r', 'o', 'n', 'h', 'a', 'c', 'k')\n"
          ]
        }
      ],
      "source": [
        "# Your code here \n",
        "\n",
        "listapp = (\"I\", \"r\", \"o\", \"n\", \"h\", \"a\", \"c\", \"k\") \n",
        "print(listapp)"
      ]
    },
    {
      "cell_type": "markdown",
      "metadata": {
        "id": "1tfrQe3842Mr"
      },
      "source": [
        "#### Split `tup` into `tup1` and `tup2` with 4 elements in each. \n",
        "\n",
        "`tup1` should be `(\"I\", \"r\", \"o\", \"n\")` and `tup2` should be `(\"h\", \"a\", \"c\", \"k\")`.\n",
        "\n",
        "*Hint: use positive index numbers for `tup1` assignment and use negative index numbers for `tup2` assignment. Positive index numbers count from the beginning whereas negative index numbers count from the end of the sequence.*\n",
        "\n",
        "Also print `tup1` and `tup2`."
      ]
    },
    {
      "cell_type": "code",
      "execution_count": 29,
      "metadata": {
        "id": "4h5zp_b242Mr",
        "outputId": "34c882b5-75ee-4c9a-e31e-22212859ba15",
        "colab": {
          "base_uri": "https://localhost:8080/"
        }
      },
      "outputs": [
        {
          "output_type": "stream",
          "name": "stdout",
          "text": [
            "('I', 'r', 'o', 'n')\n",
            "('h', 'a', 'c', 'k')\n"
          ]
        }
      ],
      "source": [
        "# Your code here\n",
        "tup1 = listapp[0:4] \n",
        "print(tup1) \n",
        "tup2 = listapp[4:] \n",
        "print(tup2)"
      ]
    },
    {
      "cell_type": "markdown",
      "metadata": {
        "id": "nsyz0F6w42Ms"
      },
      "source": [
        "#### Add `tup1` and `tup2` into `tup3` using the `+` operator.\n",
        "\n",
        "Then print `tup3` and check if `tup3` equals to `tup`."
      ]
    },
    {
      "cell_type": "code",
      "execution_count": 30,
      "metadata": {
        "id": "ZgW0pgWo42Ms",
        "outputId": "c6d1ff7a-30d3-4457-a1ba-e725107026b8",
        "colab": {
          "base_uri": "https://localhost:8080/"
        }
      },
      "outputs": [
        {
          "output_type": "stream",
          "name": "stdout",
          "text": [
            "('I', 'r', 'o', 'n', 'h', 'a', 'c', 'k')\n"
          ]
        }
      ],
      "source": [
        "# Your code here\n",
        "tup3 = tup1 + tup2 \n",
        "print(tup3)"
      ]
    },
    {
      "cell_type": "markdown",
      "metadata": {
        "id": "Iz77lWQO42Ms"
      },
      "source": [
        "#### Count the number of elements in `tup1` and `tup2`. Then add the two counts together and check if the sum is the same as the number of elements in `tup3`"
      ]
    },
    {
      "cell_type": "code",
      "execution_count": 35,
      "metadata": {
        "id": "eIHNic1842Ms",
        "outputId": "e0938aa3-ca20-44ca-86b4-b9158ae703a8",
        "colab": {
          "base_uri": "https://localhost:8080/"
        }
      },
      "outputs": [
        {
          "output_type": "execute_result",
          "data": {
            "text/plain": [
              "True"
            ]
          },
          "metadata": {},
          "execution_count": 35
        }
      ],
      "source": [
        "# Your code here\n",
        "len(tup1) + len(tup2) == len(tup3)"
      ]
    },
    {
      "cell_type": "markdown",
      "metadata": {
        "id": "sKddKAwx42Ms"
      },
      "source": [
        "#### What is the index number of `\"h\"` in `tup3`?"
      ]
    },
    {
      "cell_type": "code",
      "execution_count": 36,
      "metadata": {
        "id": "npEcAdX-42Ms",
        "outputId": "3f1ef947-99af-4efb-936e-efc933c2dc81",
        "colab": {
          "base_uri": "https://localhost:8080/"
        }
      },
      "outputs": [
        {
          "output_type": "execute_result",
          "data": {
            "text/plain": [
              "4"
            ]
          },
          "metadata": {},
          "execution_count": 36
        }
      ],
      "source": [
        "# Your code here \n",
        "\n",
        "tup3.index('h')"
      ]
    },
    {
      "cell_type": "markdown",
      "metadata": {
        "id": "s9RUQNCi42Ms"
      },
      "source": [
        "#### Now, use a FOR loop to check whether each letter in the following list is present in `tup3`:\n",
        "\n",
        "```\n",
        "letters = [\"a\", \"b\", \"c\", \"d\", \"e\"]\n",
        "```\n",
        "\n",
        "For each letter you check, print `True` if it is present in `tup3` otherwise print `False`.\n",
        "\n",
        "*Hint: you only need to loop `letters`. You don't need to loop `tup3` because there is a Python operator `in` you can use. See [reference](https://stackoverflow.com/questions/17920147/how-to-check-if-a-tuple-contains-an-element-in-python).*"
      ]
    },
    {
      "cell_type": "code",
      "execution_count": 37,
      "metadata": {
        "id": "KiTjhxvI42Mt",
        "outputId": "f6b6b899-205e-4cc6-e407-15f714867ffb",
        "colab": {
          "base_uri": "https://localhost:8080/"
        }
      },
      "outputs": [
        {
          "output_type": "stream",
          "name": "stdout",
          "text": [
            "a this letter is in the tuple\n",
            "b this letter isn't in the tuple\n",
            "c this letter is in the tuple\n",
            "d this letter isn't in the tuple\n",
            "e this letter isn't in the tuple\n"
          ]
        }
      ],
      "source": [
        "# Your code here \n",
        "letters = [\"a\", \"b\", \"c\", \"d\", \"e\"]\n",
        "for i in letters: \n",
        "  if i in tup3 :\n",
        "    print(i, \"this letter is in the tuple\") \n",
        "\n",
        "  \n",
        "\n",
        "  else: \n",
        "    print(i, \"this letter isn't in the tuple\")\n"
      ]
    },
    {
      "cell_type": "markdown",
      "metadata": {
        "id": "lA1mSAKB42Mt"
      },
      "source": [
        "#### How many times does each letter in `letters` appear in `tup3`?\n",
        "\n",
        "Print out the number of occurrence of each letter."
      ]
    },
    {
      "cell_type": "code",
      "execution_count": 38,
      "metadata": {
        "id": "dEFBvOGG42Mt",
        "outputId": "97c78000-0843-4546-b0b9-2797821671dd",
        "colab": {
          "base_uri": "https://localhost:8080/"
        }
      },
      "outputs": [
        {
          "output_type": "stream",
          "name": "stdout",
          "text": [
            "a - 1\n",
            "b - 0\n",
            "c - 1\n",
            "d - 0\n",
            "e - 0\n"
          ]
        }
      ],
      "source": [
        "# Your code here \n",
        "for letter in letters: \n",
        "  print(letter, \"-\", tup3.count(letter))\n"
      ]
    }
  ],
  "metadata": {
    "kernelspec": {
      "display_name": "Python 3",
      "language": "python",
      "name": "python3"
    },
    "language_info": {
      "codemirror_mode": {
        "name": "ipython",
        "version": 3
      },
      "file_extension": ".py",
      "mimetype": "text/x-python",
      "name": "python",
      "nbconvert_exporter": "python",
      "pygments_lexer": "ipython3",
      "version": "3.7.2"
    },
    "colab": {
      "provenance": []
    }
  },
  "nbformat": 4,
  "nbformat_minor": 0
}